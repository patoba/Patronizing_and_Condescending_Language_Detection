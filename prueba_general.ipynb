{
 "cells": [
  {
   "cell_type": "code",
   "execution_count": 1,
   "metadata": {},
   "outputs": [],
   "source": [
    "%load_ext autoreload\n",
    "%autoreload 2"
   ]
  },
  {
   "cell_type": "code",
   "execution_count": 25,
   "metadata": {},
   "outputs": [],
   "source": [
    "from sklearn.pipeline import Pipeline\n",
    "import pandas as pd\n",
    "from sklearn.feature_extraction.text import TfidfVectorizer\n",
    "from sklearn.svm import SVC\n",
    "import numpy as np\n",
    "from sklearn.model_selection import train_test_split\n",
    "from sklearn.metrics import classification_report\n",
    "from sklearn import set_config\n",
    "from sklearn.metrics import confusion_matrix\n",
    "set_config(display='diagram')"
   ]
  },
  {
   "cell_type": "code",
   "execution_count": 4,
   "metadata": {},
   "outputs": [],
   "source": [
    "from transformers import RemoveWords, GetTags, GetBase, Limpieza, common_tag_list, Tokenize, UnTokenize"
   ]
  },
  {
   "cell_type": "code",
   "execution_count": 5,
   "metadata": {},
   "outputs": [
    {
     "data": {
      "text/html": [
       "<div>\n",
       "<style scoped>\n",
       "    .dataframe tbody tr th:only-of-type {\n",
       "        vertical-align: middle;\n",
       "    }\n",
       "\n",
       "    .dataframe tbody tr th {\n",
       "        vertical-align: top;\n",
       "    }\n",
       "\n",
       "    .dataframe thead th {\n",
       "        text-align: right;\n",
       "    }\n",
       "</style>\n",
       "<table border=\"1\" class=\"dataframe\">\n",
       "  <thead>\n",
       "    <tr style=\"text-align: right;\">\n",
       "      <th></th>\n",
       "      <th>index</th>\n",
       "      <th>id_new</th>\n",
       "      <th>word_key</th>\n",
       "      <th>country</th>\n",
       "      <th>text</th>\n",
       "      <th>label</th>\n",
       "    </tr>\n",
       "  </thead>\n",
       "  <tbody>\n",
       "    <tr>\n",
       "      <th>0</th>\n",
       "      <td>5</td>\n",
       "      <td>@@1494111</td>\n",
       "      <td>refugee</td>\n",
       "      <td>ca</td>\n",
       "      <td>\" Just like we received migrants fleeing El Sa...</td>\n",
       "      <td>0</td>\n",
       "    </tr>\n",
       "    <tr>\n",
       "      <th>1</th>\n",
       "      <td>6</td>\n",
       "      <td>@@9382277</td>\n",
       "      <td>in-need</td>\n",
       "      <td>in</td>\n",
       "      <td>To bring down high blood sugar levels , insuli...</td>\n",
       "      <td>0</td>\n",
       "    </tr>\n",
       "    <tr>\n",
       "      <th>2</th>\n",
       "      <td>7</td>\n",
       "      <td>@@7562079</td>\n",
       "      <td>refugee</td>\n",
       "      <td>za</td>\n",
       "      <td>The European Union is making an historic mista...</td>\n",
       "      <td>0</td>\n",
       "    </tr>\n",
       "    <tr>\n",
       "      <th>3</th>\n",
       "      <td>8</td>\n",
       "      <td>@@23663488</td>\n",
       "      <td>hopeless</td>\n",
       "      <td>nz</td>\n",
       "      <td>\" They 're either hopeless for being beaten by...</td>\n",
       "      <td>0</td>\n",
       "    </tr>\n",
       "    <tr>\n",
       "      <th>4</th>\n",
       "      <td>9</td>\n",
       "      <td>@@3449225</td>\n",
       "      <td>homeless</td>\n",
       "      <td>ph</td>\n",
       "      <td>NUEVA ERA , Ilocos Norte - No family shall be ...</td>\n",
       "      <td>1</td>\n",
       "    </tr>\n",
       "  </tbody>\n",
       "</table>\n",
       "</div>"
      ],
      "text/plain": [
       "   index      id_new  word_key country  \\\n",
       "0      5   @@1494111   refugee      ca   \n",
       "1      6   @@9382277   in-need      in   \n",
       "2      7   @@7562079   refugee      za   \n",
       "3      8  @@23663488  hopeless      nz   \n",
       "4      9   @@3449225  homeless      ph   \n",
       "\n",
       "                                                text  label  \n",
       "0  \" Just like we received migrants fleeing El Sa...      0  \n",
       "1  To bring down high blood sugar levels , insuli...      0  \n",
       "2  The European Union is making an historic mista...      0  \n",
       "3  \" They 're either hopeless for being beaten by...      0  \n",
       "4  NUEVA ERA , Ilocos Norte - No family shall be ...      1  "
      ]
     },
     "execution_count": 5,
     "metadata": {},
     "output_type": "execute_result"
    }
   ],
   "source": [
    "data = pd.read_csv(r'datasets\\\\dontpatronizeme_pcl.tsv', skiprows=4, sep='\\t', header=None, names=['index','id_new','word_key', 'country','text','label'])\n",
    "data.head()"
   ]
  },
  {
   "cell_type": "code",
   "execution_count": 6,
   "metadata": {},
   "outputs": [],
   "source": [
    "map = lambda x : 0 if x < 2 else 1 \n",
    "data['label'] = data['label'].apply(map)"
   ]
  },
  {
   "cell_type": "code",
   "execution_count": 11,
   "metadata": {},
   "outputs": [],
   "source": [
    "data = data[~data.text.isna()]"
   ]
  },
  {
   "cell_type": "code",
   "execution_count": 13,
   "metadata": {},
   "outputs": [
    {
     "name": "stderr",
     "output_type": "stream",
     "text": [
      "c:\\Users\\anapm\\Documents\\GitHub\\Patronizing_and_Condescending_Language_Detection\\transformers\\limpieza.py:15: FutureWarning: The default value of regex will change from True to False in a future version.\n",
      "  return pd.Series(X).str.replace(\" n\\'t\", \"n\\'t\") \\\n",
      "c:\\Users\\anapm\\Documents\\GitHub\\Patronizing_and_Condescending_Language_Detection\\transformers\\limpieza.py:15: FutureWarning: The default value of regex will change from True to False in a future version. In addition, single character regular expressions will*not* be treated as literal strings when regex=True.\n",
      "  return pd.Series(X).str.replace(\" n\\'t\", \"n\\'t\") \\\n"
     ]
    },
    {
     "name": "stdout",
     "output_type": "stream",
     "text": [
      "Series([], Name: text, dtype: object)\n"
     ]
    }
   ],
   "source": [
    "X = data['text']\n",
    "y = data['label']\n",
    "pipe1 = Pipeline(steps=[('limpieza', Limpieza()),\n",
    "                         ('tokenize', Tokenize()),\n",
    "                        ('remove_stopwords', RemoveWords()),\n",
    "                        ('obtener_tags', GetTags(tag_list = common_tag_list)),\n",
    "                         ('get_base', GetBase()),\n",
    "                         ('untokenize', UnTokenize()),\n",
    "                         ('tfidf', TfidfVectorizer()),\n",
    "                         ('svm', SVC())\n",
    "                         ])\n",
    "res = pipe1.fit(X,y)"
   ]
  },
  {
   "cell_type": "code",
   "execution_count": 15,
   "metadata": {},
   "outputs": [
    {
     "data": {
      "text/html": [
       "<style>div.sk-top-container {color: black;background-color: white;}div.sk-toggleable {background-color: white;}label.sk-toggleable__label {cursor: pointer;display: block;width: 100%;margin-bottom: 0;padding: 0.2em 0.3em;box-sizing: border-box;text-align: center;}div.sk-toggleable__content {max-height: 0;max-width: 0;overflow: hidden;text-align: left;background-color: #f0f8ff;}div.sk-toggleable__content pre {margin: 0.2em;color: black;border-radius: 0.25em;background-color: #f0f8ff;}input.sk-toggleable__control:checked~div.sk-toggleable__content {max-height: 200px;max-width: 100%;overflow: auto;}div.sk-estimator input.sk-toggleable__control:checked~label.sk-toggleable__label {background-color: #d4ebff;}div.sk-label input.sk-toggleable__control:checked~label.sk-toggleable__label {background-color: #d4ebff;}input.sk-hidden--visually {border: 0;clip: rect(1px 1px 1px 1px);clip: rect(1px, 1px, 1px, 1px);height: 1px;margin: -1px;overflow: hidden;padding: 0;position: absolute;width: 1px;}div.sk-estimator {font-family: monospace;background-color: #f0f8ff;margin: 0.25em 0.25em;border: 1px dotted black;border-radius: 0.25em;box-sizing: border-box;}div.sk-estimator:hover {background-color: #d4ebff;}div.sk-parallel-item::after {content: \"\";width: 100%;border-bottom: 1px solid gray;flex-grow: 1;}div.sk-label:hover label.sk-toggleable__label {background-color: #d4ebff;}div.sk-serial::before {content: \"\";position: absolute;border-left: 1px solid gray;box-sizing: border-box;top: 2em;bottom: 0;left: 50%;}div.sk-serial {display: flex;flex-direction: column;align-items: center;background-color: white;}div.sk-item {z-index: 1;}div.sk-parallel {display: flex;align-items: stretch;justify-content: center;background-color: white;}div.sk-parallel-item {display: flex;flex-direction: column;position: relative;background-color: white;}div.sk-parallel-item:first-child::after {align-self: flex-end;width: 50%;}div.sk-parallel-item:last-child::after {align-self: flex-start;width: 50%;}div.sk-parallel-item:only-child::after {width: 0;}div.sk-dashed-wrapped {border: 1px dashed gray;margin: 0.2em;box-sizing: border-box;padding-bottom: 0.1em;background-color: white;position: relative;}div.sk-label label {font-family: monospace;font-weight: bold;background-color: white;display: inline-block;line-height: 1.2em;}div.sk-label-container {position: relative;z-index: 2;text-align: center;}div.sk-container {display: inline-block;position: relative;}</style><div class=\"sk-top-container\"><div class=\"sk-container\"><div class=\"sk-item sk-dashed-wrapped\"><div class=\"sk-label-container\"><div class=\"sk-label sk-toggleable\"><input class=\"sk-toggleable__control sk-hidden--visually\" id=\"0435558e-e441-4cb9-9e39-2f31755ad6a6\" type=\"checkbox\" ><label class=\"sk-toggleable__label\" for=\"0435558e-e441-4cb9-9e39-2f31755ad6a6\">Pipeline</label><div class=\"sk-toggleable__content\"><pre>Pipeline(steps=[('limpieza', Limpieza()), ('tokenize', Tokenize()),\n",
       "                ('remove_stopwords', RemoveWords()),\n",
       "                ('obtener_tags', GetTags()), ('get_base', GetBase()),\n",
       "                ('untokenize', UnTokenize()), ('tfidf', TfidfVectorizer()),\n",
       "                ('svm', SVC())])</pre></div></div></div><div class=\"sk-serial\"><div class=\"sk-item\"><div class=\"sk-estimator sk-toggleable\"><input class=\"sk-toggleable__control sk-hidden--visually\" id=\"80161ed7-dd96-4cc5-89ad-7511c6216537\" type=\"checkbox\" ><label class=\"sk-toggleable__label\" for=\"80161ed7-dd96-4cc5-89ad-7511c6216537\">Limpieza</label><div class=\"sk-toggleable__content\"><pre>Limpieza()</pre></div></div></div><div class=\"sk-item\"><div class=\"sk-estimator sk-toggleable\"><input class=\"sk-toggleable__control sk-hidden--visually\" id=\"78a91060-129a-4021-9d50-91445c1e1ea0\" type=\"checkbox\" ><label class=\"sk-toggleable__label\" for=\"78a91060-129a-4021-9d50-91445c1e1ea0\">Tokenize</label><div class=\"sk-toggleable__content\"><pre>Tokenize()</pre></div></div></div><div class=\"sk-item\"><div class=\"sk-estimator sk-toggleable\"><input class=\"sk-toggleable__control sk-hidden--visually\" id=\"fcfe3fed-f15e-4841-b56e-628877418240\" type=\"checkbox\" ><label class=\"sk-toggleable__label\" for=\"fcfe3fed-f15e-4841-b56e-628877418240\">RemoveWords</label><div class=\"sk-toggleable__content\"><pre>RemoveWords()</pre></div></div></div><div class=\"sk-item\"><div class=\"sk-estimator sk-toggleable\"><input class=\"sk-toggleable__control sk-hidden--visually\" id=\"fb76d6da-8d9c-4dcb-a694-da4263d845ff\" type=\"checkbox\" ><label class=\"sk-toggleable__label\" for=\"fb76d6da-8d9c-4dcb-a694-da4263d845ff\">GetTags</label><div class=\"sk-toggleable__content\"><pre>GetTags()</pre></div></div></div><div class=\"sk-item\"><div class=\"sk-estimator sk-toggleable\"><input class=\"sk-toggleable__control sk-hidden--visually\" id=\"b808c708-0ede-464a-ab85-61f694b5889d\" type=\"checkbox\" ><label class=\"sk-toggleable__label\" for=\"b808c708-0ede-464a-ab85-61f694b5889d\">GetBase</label><div class=\"sk-toggleable__content\"><pre>GetBase()</pre></div></div></div><div class=\"sk-item\"><div class=\"sk-estimator sk-toggleable\"><input class=\"sk-toggleable__control sk-hidden--visually\" id=\"dc494fab-ec23-4084-82f5-71801b3e8a41\" type=\"checkbox\" ><label class=\"sk-toggleable__label\" for=\"dc494fab-ec23-4084-82f5-71801b3e8a41\">UnTokenize</label><div class=\"sk-toggleable__content\"><pre>UnTokenize()</pre></div></div></div><div class=\"sk-item\"><div class=\"sk-estimator sk-toggleable\"><input class=\"sk-toggleable__control sk-hidden--visually\" id=\"42500e8c-5411-42fa-a9df-d8d544a15058\" type=\"checkbox\" ><label class=\"sk-toggleable__label\" for=\"42500e8c-5411-42fa-a9df-d8d544a15058\">TfidfVectorizer</label><div class=\"sk-toggleable__content\"><pre>TfidfVectorizer()</pre></div></div></div><div class=\"sk-item\"><div class=\"sk-estimator sk-toggleable\"><input class=\"sk-toggleable__control sk-hidden--visually\" id=\"5ac2f361-7212-46be-bf79-edcf033ff08c\" type=\"checkbox\" ><label class=\"sk-toggleable__label\" for=\"5ac2f361-7212-46be-bf79-edcf033ff08c\">SVC</label><div class=\"sk-toggleable__content\"><pre>SVC()</pre></div></div></div></div></div></div></div>"
      ],
      "text/plain": [
       "Pipeline(steps=[('limpieza', Limpieza()), ('tokenize', Tokenize()),\n",
       "                ('remove_stopwords', RemoveWords()),\n",
       "                ('obtener_tags', GetTags()), ('get_base', GetBase()),\n",
       "                ('untokenize', UnTokenize()), ('tfidf', TfidfVectorizer()),\n",
       "                ('svm', SVC())])"
      ]
     },
     "execution_count": 15,
     "metadata": {},
     "output_type": "execute_result"
    }
   ],
   "source": [
    "res"
   ]
  },
  {
   "cell_type": "code",
   "execution_count": 17,
   "metadata": {},
   "outputs": [
    {
     "name": "stderr",
     "output_type": "stream",
     "text": [
      "c:\\Users\\anapm\\Documents\\GitHub\\Patronizing_and_Condescending_Language_Detection\\transformers\\limpieza.py:15: FutureWarning: The default value of regex will change from True to False in a future version.\n",
      "  return pd.Series(X).str.replace(\" n\\'t\", \"n\\'t\") \\\n",
      "c:\\Users\\anapm\\Documents\\GitHub\\Patronizing_and_Condescending_Language_Detection\\transformers\\limpieza.py:15: FutureWarning: The default value of regex will change from True to False in a future version. In addition, single character regular expressions will*not* be treated as literal strings when regex=True.\n",
      "  return pd.Series(X).str.replace(\" n\\'t\", \"n\\'t\") \\\n"
     ]
    },
    {
     "name": "stdout",
     "output_type": "stream",
     "text": [
      "Series([], Name: text, dtype: object)\n"
     ]
    },
    {
     "data": {
      "text/plain": [
       "0.930045871559633"
      ]
     },
     "execution_count": 17,
     "metadata": {},
     "output_type": "execute_result"
    }
   ],
   "source": [
    "res.score(X, y)"
   ]
  },
  {
   "cell_type": "code",
   "execution_count": 21,
   "metadata": {},
   "outputs": [],
   "source": [
    "X_train , X_test, y_train, y_test = train_test_split(X,y)"
   ]
  },
  {
   "cell_type": "code",
   "execution_count": 22,
   "metadata": {},
   "outputs": [
    {
     "name": "stderr",
     "output_type": "stream",
     "text": [
      "c:\\Users\\anapm\\Documents\\GitHub\\Patronizing_and_Condescending_Language_Detection\\transformers\\limpieza.py:15: FutureWarning: The default value of regex will change from True to False in a future version.\n",
      "  return pd.Series(X).str.replace(\" n\\'t\", \"n\\'t\") \\\n",
      "c:\\Users\\anapm\\Documents\\GitHub\\Patronizing_and_Condescending_Language_Detection\\transformers\\limpieza.py:15: FutureWarning: The default value of regex will change from True to False in a future version. In addition, single character regular expressions will*not* be treated as literal strings when regex=True.\n",
      "  return pd.Series(X).str.replace(\" n\\'t\", \"n\\'t\") \\\n"
     ]
    },
    {
     "name": "stdout",
     "output_type": "stream",
     "text": [
      "Series([], Name: text, dtype: object)\n"
     ]
    }
   ],
   "source": [
    "clf = pipe1.fit(X_train,y_train)"
   ]
  },
  {
   "cell_type": "code",
   "execution_count": 23,
   "metadata": {},
   "outputs": [
    {
     "name": "stderr",
     "output_type": "stream",
     "text": [
      "c:\\Users\\anapm\\Documents\\GitHub\\Patronizing_and_Condescending_Language_Detection\\transformers\\limpieza.py:15: FutureWarning: The default value of regex will change from True to False in a future version.\n",
      "  return pd.Series(X).str.replace(\" n\\'t\", \"n\\'t\") \\\n",
      "c:\\Users\\anapm\\Documents\\GitHub\\Patronizing_and_Condescending_Language_Detection\\transformers\\limpieza.py:15: FutureWarning: The default value of regex will change from True to False in a future version. In addition, single character regular expressions will*not* be treated as literal strings when regex=True.\n",
      "  return pd.Series(X).str.replace(\" n\\'t\", \"n\\'t\") \\\n"
     ]
    },
    {
     "name": "stdout",
     "output_type": "stream",
     "text": [
      "Series([], Name: text, dtype: object)\n"
     ]
    }
   ],
   "source": [
    "labels = clf.predict(X_test)"
   ]
  },
  {
   "cell_type": "code",
   "execution_count": 24,
   "metadata": {},
   "outputs": [
    {
     "name": "stdout",
     "output_type": "stream",
     "text": [
      "              precision    recall  f1-score   support\n",
      "\n",
      "           0       0.91      1.00      0.95      2379\n",
      "           1       0.33      0.00      0.01       237\n",
      "\n",
      "    accuracy                           0.91      2616\n",
      "   macro avg       0.62      0.50      0.48      2616\n",
      "weighted avg       0.86      0.91      0.87      2616\n",
      "\n"
     ]
    }
   ],
   "source": [
    "report = classification_report(y_test, labels)\n",
    "print(report)"
   ]
  },
  {
   "cell_type": "code",
   "execution_count": 26,
   "metadata": {},
   "outputs": [
    {
     "data": {
      "text/plain": [
       "array([[2377,    2],\n",
       "       [ 236,    1]], dtype=int64)"
      ]
     },
     "execution_count": 26,
     "metadata": {},
     "output_type": "execute_result"
    }
   ],
   "source": [
    "confusion_matrix(y_test, labels)"
   ]
  },
  {
   "cell_type": "code",
   "execution_count": 27,
   "metadata": {},
   "outputs": [
    {
     "data": {
      "text/plain": [
       "3"
      ]
     },
     "execution_count": 27,
     "metadata": {},
     "output_type": "execute_result"
    }
   ],
   "source": [
    "sum(labels)"
   ]
  },
  {
   "cell_type": "code",
   "execution_count": 30,
   "metadata": {},
   "outputs": [
    {
     "data": {
      "text/plain": [
       "0.9096823574435515"
      ]
     },
     "execution_count": 30,
     "metadata": {},
     "output_type": "execute_result"
    }
   ],
   "source": [
    "2377/(2377+236)"
   ]
  }
 ],
 "metadata": {
  "kernelspec": {
   "display_name": "Python 3",
   "language": "python",
   "name": "python3"
  },
  "language_info": {
   "codemirror_mode": {
    "name": "ipython",
    "version": 3
   },
   "file_extension": ".py",
   "mimetype": "text/x-python",
   "name": "python",
   "nbconvert_exporter": "python",
   "pygments_lexer": "ipython3",
   "version": "3.8.8"
  }
 },
 "nbformat": 4,
 "nbformat_minor": 4
}
