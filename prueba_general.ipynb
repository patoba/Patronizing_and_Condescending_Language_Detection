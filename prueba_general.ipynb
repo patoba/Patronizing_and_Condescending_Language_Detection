{
 "cells": [
  {
   "cell_type": "code",
   "execution_count": 1,
   "metadata": {},
   "outputs": [],
   "source": [
    "%load_ext autoreload\n",
    "%autoreload 2"
   ]
  },
  {
   "cell_type": "code",
   "execution_count": 31,
   "metadata": {},
   "outputs": [
    {
     "name": "stdout",
     "output_type": "stream",
     "text": [
      "Collecting gensim\n",
      "  Downloading gensim-4.1.2-cp38-cp38-win_amd64.whl (24.0 MB)\n",
      "Requirement already satisfied: numpy>=1.17.0 in c:\\users\\anapm\\appdata\\roaming\\python\\python38\\site-packages (from gensim) (1.21.3)\n",
      "Requirement already satisfied: scipy>=0.18.1 in c:\\users\\anapm\\anaconda3\\lib\\site-packages (from gensim) (1.6.2)\n",
      "Requirement already satisfied: Cython==0.29.23 in c:\\users\\anapm\\anaconda3\\lib\\site-packages (from gensim) (0.29.23)\n",
      "Collecting smart-open>=1.8.1\n",
      "  Downloading smart_open-5.2.1-py3-none-any.whl (58 kB)\n",
      "Installing collected packages: smart-open, gensim\n",
      "Successfully installed gensim-4.1.2 smart-open-5.2.1\n"
     ]
    }
   ],
   "source": [
    "!pip install gensim"
   ]
  },
  {
   "cell_type": "code",
   "execution_count": 1,
   "metadata": {},
   "outputs": [],
   "source": [
    "from sklearn.pipeline import Pipeline\n",
    "import pandas as pd\n",
    "import nltk\n",
    "from sklearn.feature_extraction.text import TfidfVectorizer\n",
    "from sklearn.svm import SVC\n",
    "import numpy as np\n",
    "from sklearn.model_selection import train_test_split\n",
    "from sklearn.metrics import classification_report\n",
    "from sklearn import set_config\n",
    "from sklearn.metrics import confusion_matrix\n",
    "\n",
    "set_config(display='diagram')"
   ]
  },
  {
   "cell_type": "code",
   "execution_count": 2,
   "metadata": {},
   "outputs": [],
   "source": [
    "from transformers import RemoveWords, GetTags, GetBase, Limpieza, common_tag_list, Tokenize, UnTokenize, en_embeddings_subset, GetSentenceEmbedding"
   ]
  },
  {
   "cell_type": "code",
   "execution_count": 3,
   "metadata": {},
   "outputs": [
    {
     "data": {
      "text/html": [
       "<div>\n",
       "<style scoped>\n",
       "    .dataframe tbody tr th:only-of-type {\n",
       "        vertical-align: middle;\n",
       "    }\n",
       "\n",
       "    .dataframe tbody tr th {\n",
       "        vertical-align: top;\n",
       "    }\n",
       "\n",
       "    .dataframe thead th {\n",
       "        text-align: right;\n",
       "    }\n",
       "</style>\n",
       "<table border=\"1\" class=\"dataframe\">\n",
       "  <thead>\n",
       "    <tr style=\"text-align: right;\">\n",
       "      <th></th>\n",
       "      <th>index</th>\n",
       "      <th>id_new</th>\n",
       "      <th>word_key</th>\n",
       "      <th>country</th>\n",
       "      <th>text</th>\n",
       "      <th>label</th>\n",
       "    </tr>\n",
       "  </thead>\n",
       "  <tbody>\n",
       "    <tr>\n",
       "      <th>0</th>\n",
       "      <td>5</td>\n",
       "      <td>@@1494111</td>\n",
       "      <td>refugee</td>\n",
       "      <td>ca</td>\n",
       "      <td>\" Just like we received migrants fleeing El Sa...</td>\n",
       "      <td>0</td>\n",
       "    </tr>\n",
       "    <tr>\n",
       "      <th>1</th>\n",
       "      <td>6</td>\n",
       "      <td>@@9382277</td>\n",
       "      <td>in-need</td>\n",
       "      <td>in</td>\n",
       "      <td>To bring down high blood sugar levels , insuli...</td>\n",
       "      <td>0</td>\n",
       "    </tr>\n",
       "    <tr>\n",
       "      <th>2</th>\n",
       "      <td>7</td>\n",
       "      <td>@@7562079</td>\n",
       "      <td>refugee</td>\n",
       "      <td>za</td>\n",
       "      <td>The European Union is making an historic mista...</td>\n",
       "      <td>0</td>\n",
       "    </tr>\n",
       "    <tr>\n",
       "      <th>3</th>\n",
       "      <td>8</td>\n",
       "      <td>@@23663488</td>\n",
       "      <td>hopeless</td>\n",
       "      <td>nz</td>\n",
       "      <td>\" They 're either hopeless for being beaten by...</td>\n",
       "      <td>0</td>\n",
       "    </tr>\n",
       "    <tr>\n",
       "      <th>4</th>\n",
       "      <td>9</td>\n",
       "      <td>@@3449225</td>\n",
       "      <td>homeless</td>\n",
       "      <td>ph</td>\n",
       "      <td>NUEVA ERA , Ilocos Norte - No family shall be ...</td>\n",
       "      <td>1</td>\n",
       "    </tr>\n",
       "  </tbody>\n",
       "</table>\n",
       "</div>"
      ],
      "text/plain": [
       "   index      id_new  word_key country  \\\n",
       "0      5   @@1494111   refugee      ca   \n",
       "1      6   @@9382277   in-need      in   \n",
       "2      7   @@7562079   refugee      za   \n",
       "3      8  @@23663488  hopeless      nz   \n",
       "4      9   @@3449225  homeless      ph   \n",
       "\n",
       "                                                text  label  \n",
       "0  \" Just like we received migrants fleeing El Sa...      0  \n",
       "1  To bring down high blood sugar levels , insuli...      0  \n",
       "2  The European Union is making an historic mista...      0  \n",
       "3  \" They 're either hopeless for being beaten by...      0  \n",
       "4  NUEVA ERA , Ilocos Norte - No family shall be ...      1  "
      ]
     },
     "execution_count": 3,
     "metadata": {},
     "output_type": "execute_result"
    }
   ],
   "source": [
    "data = pd.read_csv(r'datasets\\\\dontpatronizeme_pcl.tsv', skiprows=4, sep='\\t', header=None, names=['index','id_new','word_key', 'country','text','label'])\n",
    "data.head()"
   ]
  },
  {
   "cell_type": "code",
   "execution_count": 4,
   "metadata": {},
   "outputs": [],
   "source": [
    "map = lambda x : 0 if x < 2 else 1 \n",
    "data['label'] = data['label'].apply(map)"
   ]
  },
  {
   "cell_type": "code",
   "execution_count": 5,
   "metadata": {},
   "outputs": [],
   "source": [
    "data = data[~data.text.isna()]"
   ]
  },
  {
   "cell_type": "code",
   "execution_count": 6,
   "metadata": {},
   "outputs": [
    {
     "name": "stderr",
     "output_type": "stream",
     "text": [
      "c:\\Users\\anapm\\Documents\\GitHub\\Patronizing_and_Condescending_Language_Detection\\transformers\\limpieza.py:15: FutureWarning: The default value of regex will change from True to False in a future version.\n",
      "  return pd.Series(X).str.replace(\" n\\'t\", \"n\\'t\") \\\n",
      "c:\\Users\\anapm\\Documents\\GitHub\\Patronizing_and_Condescending_Language_Detection\\transformers\\limpieza.py:15: FutureWarning: The default value of regex will change from True to False in a future version. In addition, single character regular expressions will*not* be treated as literal strings when regex=True.\n",
      "  return pd.Series(X).str.replace(\" n\\'t\", \"n\\'t\") \\\n"
     ]
    },
    {
     "name": "stdout",
     "output_type": "stream",
     "text": [
      "Series([], Name: text, dtype: object)\n"
     ]
    }
   ],
   "source": [
    "X = data['text']\n",
    "y = data['label']\n",
    "pipe1 = Pipeline(steps=[('limpieza', Limpieza()),\n",
    "                         ('tokenize', Tokenize()),\n",
    "                        ('remove_stopwords', RemoveWords()),\n",
    "                        ('obtener_tags', GetTags(tag_list = common_tag_list)),\n",
    "                         ('get_base', GetBase()),\n",
    "                         ('untokenize', UnTokenize()),\n",
    "                         ('tfidf', GetSentenceEmbedding()),\n",
    "                        ('svm', SVC())\n",
    "                         ])\n",
    "res = pipe1.fit(X,y)"
   ]
  },
  {
   "cell_type": "code",
   "execution_count": 7,
   "metadata": {},
   "outputs": [
    {
     "name": "stderr",
     "output_type": "stream",
     "text": [
      "c:\\Users\\anapm\\Documents\\GitHub\\Patronizing_and_Condescending_Language_Detection\\transformers\\limpieza.py:15: FutureWarning: The default value of regex will change from True to False in a future version.\n",
      "  return pd.Series(X).str.replace(\" n\\'t\", \"n\\'t\") \\\n",
      "c:\\Users\\anapm\\Documents\\GitHub\\Patronizing_and_Condescending_Language_Detection\\transformers\\limpieza.py:15: FutureWarning: The default value of regex will change from True to False in a future version. In addition, single character regular expressions will*not* be treated as literal strings when regex=True.\n",
      "  return pd.Series(X).str.replace(\" n\\'t\", \"n\\'t\") \\\n"
     ]
    },
    {
     "name": "stdout",
     "output_type": "stream",
     "text": [
      "Series([], Name: text, dtype: object)\n"
     ]
    },
    {
     "data": {
      "text/plain": [
       "0.9051032110091743"
      ]
     },
     "execution_count": 7,
     "metadata": {},
     "output_type": "execute_result"
    }
   ],
   "source": [
    "res.score(X, y)"
   ]
  },
  {
   "cell_type": "code",
   "execution_count": 8,
   "metadata": {},
   "outputs": [],
   "source": [
    "X_train , X_test, y_train, y_test = train_test_split(X,y)"
   ]
  },
  {
   "cell_type": "code",
   "execution_count": 9,
   "metadata": {},
   "outputs": [
    {
     "name": "stderr",
     "output_type": "stream",
     "text": [
      "c:\\Users\\anapm\\Documents\\GitHub\\Patronizing_and_Condescending_Language_Detection\\transformers\\limpieza.py:15: FutureWarning: The default value of regex will change from True to False in a future version.\n",
      "  return pd.Series(X).str.replace(\" n\\'t\", \"n\\'t\") \\\n",
      "c:\\Users\\anapm\\Documents\\GitHub\\Patronizing_and_Condescending_Language_Detection\\transformers\\limpieza.py:15: FutureWarning: The default value of regex will change from True to False in a future version. In addition, single character regular expressions will*not* be treated as literal strings when regex=True.\n",
      "  return pd.Series(X).str.replace(\" n\\'t\", \"n\\'t\") \\\n"
     ]
    },
    {
     "name": "stdout",
     "output_type": "stream",
     "text": [
      "Series([], Name: text, dtype: object)\n"
     ]
    }
   ],
   "source": [
    "clf = pipe1.fit(X_train,y_train)"
   ]
  },
  {
   "cell_type": "code",
   "execution_count": 10,
   "metadata": {},
   "outputs": [
    {
     "name": "stderr",
     "output_type": "stream",
     "text": [
      "c:\\Users\\anapm\\Documents\\GitHub\\Patronizing_and_Condescending_Language_Detection\\transformers\\limpieza.py:15: FutureWarning: The default value of regex will change from True to False in a future version.\n",
      "  return pd.Series(X).str.replace(\" n\\'t\", \"n\\'t\") \\\n",
      "c:\\Users\\anapm\\Documents\\GitHub\\Patronizing_and_Condescending_Language_Detection\\transformers\\limpieza.py:15: FutureWarning: The default value of regex will change from True to False in a future version. In addition, single character regular expressions will*not* be treated as literal strings when regex=True.\n",
      "  return pd.Series(X).str.replace(\" n\\'t\", \"n\\'t\") \\\n"
     ]
    },
    {
     "name": "stdout",
     "output_type": "stream",
     "text": [
      "Series([], Name: text, dtype: object)\n"
     ]
    }
   ],
   "source": [
    "labels = clf.predict(X_test)"
   ]
  },
  {
   "cell_type": "code",
   "execution_count": 24,
   "metadata": {},
   "outputs": [
    {
     "name": "stdout",
     "output_type": "stream",
     "text": [
      "              precision    recall  f1-score   support\n",
      "\n",
      "           0       0.91      1.00      0.95      2379\n",
      "           1       0.33      0.00      0.01       237\n",
      "\n",
      "    accuracy                           0.91      2616\n",
      "   macro avg       0.62      0.50      0.48      2616\n",
      "weighted avg       0.86      0.91      0.87      2616\n",
      "\n"
     ]
    }
   ],
   "source": [
    "report = classification_report(y_test, labels)\n",
    "print(report)"
   ]
  },
  {
   "cell_type": "code",
   "execution_count": 11,
   "metadata": {},
   "outputs": [
    {
     "name": "stdout",
     "output_type": "stream",
     "text": [
      "              precision    recall  f1-score   support\n",
      "\n",
      "           0       0.91      1.00      0.95      2378\n",
      "           1       0.00      0.00      0.00       238\n",
      "\n",
      "    accuracy                           0.91      2616\n",
      "   macro avg       0.45      0.50      0.48      2616\n",
      "weighted avg       0.83      0.91      0.87      2616\n",
      "\n"
     ]
    },
    {
     "name": "stderr",
     "output_type": "stream",
     "text": [
      "C:\\Users\\anapm\\anaconda3\\lib\\site-packages\\sklearn\\metrics\\_classification.py:1245: UndefinedMetricWarning: Precision and F-score are ill-defined and being set to 0.0 in labels with no predicted samples. Use `zero_division` parameter to control this behavior.\n",
      "  _warn_prf(average, modifier, msg_start, len(result))\n",
      "C:\\Users\\anapm\\anaconda3\\lib\\site-packages\\sklearn\\metrics\\_classification.py:1245: UndefinedMetricWarning: Precision and F-score are ill-defined and being set to 0.0 in labels with no predicted samples. Use `zero_division` parameter to control this behavior.\n",
      "  _warn_prf(average, modifier, msg_start, len(result))\n",
      "C:\\Users\\anapm\\anaconda3\\lib\\site-packages\\sklearn\\metrics\\_classification.py:1245: UndefinedMetricWarning: Precision and F-score are ill-defined and being set to 0.0 in labels with no predicted samples. Use `zero_division` parameter to control this behavior.\n",
      "  _warn_prf(average, modifier, msg_start, len(result))\n"
     ]
    }
   ],
   "source": [
    "report = classification_report(y_test, labels)\n",
    "print(report)"
   ]
  },
  {
   "cell_type": "code",
   "execution_count": 26,
   "metadata": {},
   "outputs": [
    {
     "data": {
      "text/plain": [
       "array([[2377,    2],\n",
       "       [ 236,    1]], dtype=int64)"
      ]
     },
     "execution_count": 26,
     "metadata": {},
     "output_type": "execute_result"
    }
   ],
   "source": [
    "confusion_matrix(y_test, labels)"
   ]
  },
  {
   "cell_type": "code",
   "execution_count": 27,
   "metadata": {},
   "outputs": [
    {
     "data": {
      "text/plain": [
       "3"
      ]
     },
     "execution_count": 27,
     "metadata": {},
     "output_type": "execute_result"
    }
   ],
   "source": [
    "sum(labels)"
   ]
  },
  {
   "cell_type": "code",
   "execution_count": 30,
   "metadata": {},
   "outputs": [
    {
     "data": {
      "text/plain": [
       "0.9096823574435515"
      ]
     },
     "execution_count": 30,
     "metadata": {},
     "output_type": "execute_result"
    }
   ],
   "source": [
    "2377/(2377+236)"
   ]
  }
 ],
 "metadata": {
  "kernelspec": {
   "display_name": "Python 3",
   "language": "python",
   "name": "python3"
  },
  "language_info": {
   "codemirror_mode": {
    "name": "ipython",
    "version": 3
   },
   "file_extension": ".py",
   "mimetype": "text/x-python",
   "name": "python",
   "nbconvert_exporter": "python",
   "pygments_lexer": "ipython3",
   "version": "3.8.8"
  }
 },
 "nbformat": 4,
 "nbformat_minor": 4
}
